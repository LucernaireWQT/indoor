{
 "cells": [
  {
   "cell_type": "code",
   "execution_count": 28,
   "metadata": {},
   "outputs": [],
   "source": [
    "import pandas as pd"
   ]
  },
  {
   "cell_type": "code",
   "execution_count": 40,
   "metadata": {},
   "outputs": [],
   "source": [
    "df = pd.read_csv(\"laptop_captures.csv\", skipinitialspace=True)\n",
    "df_test = pd.read_csv(\"captures2.csv\", skipinitialspace=True)"
   ]
  },
  {
   "cell_type": "code",
   "execution_count": 46,
   "metadata": {},
   "outputs": [],
   "source": [
    "clean = df.dropna(axis=1, thresh=75).fillna(-95)\n",
    "clean_test = df_test.fillna(-95)"
   ]
  },
  {
   "cell_type": "code",
   "execution_count": 42,
   "metadata": {},
   "outputs": [
    {
     "data": {
      "text/plain": [
       "70"
      ]
     },
     "execution_count": 42,
     "metadata": {},
     "output_type": "execute_result"
    }
   ],
   "source": [
    "macs = clean.columns.drop([\"zone\", \"mesure\"])\n",
    "macs\n",
    "len(macs)"
   ]
  },
  {
   "cell_type": "code",
   "execution_count": 43,
   "metadata": {},
   "outputs": [],
   "source": [
    "data = clean[macs]\n",
    "labels = clean[\"zone\"]"
   ]
  },
  {
   "cell_type": "code",
   "execution_count": 48,
   "metadata": {},
   "outputs": [
    {
     "name": "stdout",
     "output_type": "stream",
     "text": [
      "Epoch 1/10\n",
      "WARNING:tensorflow:Layer dense_24 is casting an input tensor from dtype float64 to the layer's dtype of float32, which is new behavior in TensorFlow 2.  The layer has dtype float32 because its dtype defaults to floatx.\n",
      "\n",
      "If you intended to run this layer in float32, you can safely ignore this warning. If in doubt, this warning is likely only an issue if you are porting a TensorFlow 1.X model to TensorFlow 2.\n",
      "\n",
      "To change all layers to have dtype float64 by default, call `tf.keras.backend.set_floatx('float64')`. To change just this layer, pass dtype='float64' to the layer constructor. If you are the author of this layer, you can disable autocasting by passing autocast=False to the base Layer constructor.\n",
      "\n",
      "4/4 [==============================] - 0s 749us/step - loss: 61.3784 - accuracy: 0.4400\n",
      "Epoch 2/10\n",
      "4/4 [==============================] - 0s 748us/step - loss: 52.4180 - accuracy: 0.5000\n",
      "Epoch 3/10\n",
      "4/4 [==============================] - 0s 499us/step - loss: 17.5575 - accuracy: 0.5100\n",
      "Epoch 4/10\n",
      "4/4 [==============================] - 0s 498us/step - loss: 16.9520 - accuracy: 0.4600\n",
      "Epoch 5/10\n",
      "4/4 [==============================] - 0s 499us/step - loss: 21.1780 - accuracy: 0.5100\n",
      "Epoch 6/10\n",
      "4/4 [==============================] - 0s 747us/step - loss: 21.5372 - accuracy: 0.5000\n",
      "Epoch 7/10\n",
      "4/4 [==============================] - 0s 499us/step - loss: 7.2185 - accuracy: 0.5800\n",
      "Epoch 8/10\n",
      "4/4 [==============================] - 0s 498us/step - loss: 6.2137 - accuracy: 0.5000\n",
      "Epoch 9/10\n",
      "4/4 [==============================] - 0s 748us/step - loss: 10.6025 - accuracy: 0.5400\n",
      "Epoch 10/10\n",
      "4/4 [==============================] - 0s 748us/step - loss: 6.7539 - accuracy: 0.5500\n"
     ]
    },
    {
     "data": {
      "text/plain": [
       "<tensorflow.python.keras.callbacks.History at 0x27daa0bc088>"
      ]
     },
     "execution_count": 48,
     "metadata": {},
     "output_type": "execute_result"
    }
   ],
   "source": [
    "model = tf.keras.Sequential([\n",
    "    tf.keras.layers.Dense(len(macs)),\n",
    "    tf.keras.layers.Dense(100),\n",
    "    tf.keras.layers.Dense(100),\n",
    "    tf.keras.layers.Dense(3, activation=\"softmax\")\n",
    "])\n",
    "\n",
    "model.compile(optimizer='adam',\n",
    "              loss='sparse_categorical_crossentropy',\n",
    "              metrics=['accuracy'])\n",
    "\n",
    "model.fit(data, labels, epochs=10)"
   ]
  },
  {
   "cell_type": "code",
   "execution_count": 51,
   "metadata": {},
   "outputs": [
    {
     "data": {
      "text/plain": [
       "array([[0.00000000e+00, 5.80703454e-06, 9.99994159e-01],\n",
       "       [0.00000000e+00, 5.23962456e-07, 9.99999523e-01],\n",
       "       [0.00000000e+00, 2.01465178e-09, 1.00000000e+00],\n",
       "       [0.00000000e+00, 4.49953774e-07, 9.99999523e-01],\n",
       "       [0.00000000e+00, 2.97526630e-12, 1.00000000e+00],\n",
       "       [0.00000000e+00, 4.27025533e-11, 1.00000000e+00],\n",
       "       [0.00000000e+00, 5.37524081e-10, 1.00000000e+00],\n",
       "       [0.00000000e+00, 1.63943792e-09, 1.00000000e+00],\n",
       "       [0.00000000e+00, 1.09873215e-10, 1.00000000e+00],\n",
       "       [0.00000000e+00, 1.23679941e-10, 1.00000000e+00]], dtype=float32)"
      ]
     },
     "execution_count": 51,
     "metadata": {},
     "output_type": "execute_result"
    }
   ],
   "source": [
    "test_data = clean_test[macs]\n",
    "\n",
    "\n",
    "model.predict(test_data)"
   ]
  }
 ],
 "metadata": {
  "interpreter": {
   "hash": "acc6d2b6ab893c8ea78b60a372a1b50e1f56205ac906876f7af3c8986ea9122d"
  },
  "kernelspec": {
   "display_name": "Python 3.7.13 ('indoor')",
   "language": "python",
   "name": "python3"
  },
  "language_info": {
   "codemirror_mode": {
    "name": "ipython",
    "version": 3
   },
   "file_extension": ".py",
   "mimetype": "text/x-python",
   "name": "python",
   "nbconvert_exporter": "python",
   "pygments_lexer": "ipython3",
   "version": "3.7.13"
  },
  "orig_nbformat": 4
 },
 "nbformat": 4,
 "nbformat_minor": 2
}
